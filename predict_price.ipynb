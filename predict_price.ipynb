{
  "cells": [
    {
      "cell_type": "code",
      "execution_count": null,
      "id": "effac78d",
      "metadata": {
        "id": "effac78d",
        "outputId": "e6244e60-8f59-48b5-efc7-328d19417f86"
      },
      "outputs": [
        {
          "name": "stderr",
          "output_type": "stream",
          "text": [
            "WARNING: You are using pip version 21.1.1; however, version 21.1.3 is available.\n",
            "You should consider upgrading via the 'c:\\users\\劉振豐\\appdata\\local\\programs\\python\\python39\\python.exe -m pip install --upgrade pip' command.\n"
          ]
        }
      ],
      "source": [
        "import requests#產生HTTP請求的函式庫\n",
        "import datetime#處理日期和時間的函式庫\n",
        "import pandas as pd#資料處理和分析的函式庫\n",
        "import matplotlib.pyplot as plt#繪圖函式庫\n",
        "\n",
        "import numpy as np#處理矩陣、陣列運算的函式庫\n",
        "#import gc#請理電腦及編譯迄無用資源的函式庫\n",
        "\n",
        "#安裝keras機器學習庫\n",
        "!pip install -q keras\n",
        "import keras\n",
        "from keras.models import Sequential#匯入 Sequential() 以便進行建造身經網路架構\n",
        "from keras.layers import Activation, Dense#引入激勵函數以及層數\n",
        "from keras.layers import LSTM#引入LSTM演算法\n",
        "from keras.layers import Dropout#引入dropout 正規化\n",
        "\n",
        "import tensorflow as tf\n",
        "\n",
        "#魔法函數，這樣就不需要在繪圖設定後加上plt.show()這句話就可以直接繪圖了\n",
        "%matplotlib inline"
      ]
    },
    {
      "cell_type": "code",
      "execution_count": null,
      "id": "e6a985ba",
      "metadata": {
        "id": "e6a985ba"
      },
      "outputs": [],
      "source": [
        "window_len = 7"
      ]
    },
    {
      "cell_type": "code",
      "execution_count": null,
      "id": "7b6d6c56",
      "metadata": {
        "id": "7b6d6c56"
      },
      "outputs": [],
      "source": [
        "def get_market_data(symbol, comparison_symbol, limit,aggregate, tag=True, exchange='', all_data=True):#從cryptocompare中找歷史資料\n",
        "    url = 'https://min-api.cryptocompare.com/data/histoday?fsym={}&tsym={}&limit={}&aggregate={}'\\\n",
        "            .format(symbol.upper(), comparison_symbol.upper(), limit, aggregate)\n",
        "    print(url)\n",
        "    if exchange:\n",
        "        url += '&e={}'.format(exchange)\n",
        "    print(url)\n",
        "    page = requests.get(url)\n",
        "    data = page.json()['Data']#取json上的Data字典\n",
        "    df = pd.DataFrame(data)#將字典轉換成pandas的陣列\n",
        "    df['timestamp'] = [datetime.datetime.fromtimestamp(d) for d in df.time]#增加timestamp行，為每個time所對應到的當地時間\n",
        "    if tag:\n",
        "        df.columns = [df.columns[0]] + [tag + \"_\" + i for i in  df.columns[1:7]] +  [df.columns[i] for i in range(7,10)]#將資料前面加上幣種\n",
        "    return df\n",
        "def show_plot(data, tag):#將歷史價格資料(USD)繪製成折線圖、成交量(USD)繪製成長條圖\n",
        "  fig, (ax1, ax2) = plt.subplots(2,1, gridspec_kw = {'height_ratios':[3, 1]})#將畫面分成高度為3:1的樣子\n",
        "  ax1.set_ylabel('Closing Price ($)',fontsize=12)#設置Y軸標題\n",
        "  ax2.set_ylabel('Volume ($ USD)',fontsize=12)\n",
        "  ax1.plot(data.timestamp, data[tag+\"_close\"])#繪製第一張圖\n",
        "  plt.setp(ax1.xaxis.get_majorticklabels(), rotation=45)#將X軸文字傾斜45度\n",
        "  ax2.bar(data.timestamp, data[tag+\"_volumeto\"])#繪製第二張圖\n",
        "  plt.setp(ax2.xaxis.get_majorticklabels(), rotation=45)#將X、Y軸文字都傾斜45度\n",
        "  plt.setp(ax2.yaxis.get_majorticklabels(), rotation=45)\n",
        "  fig.tight_layout()#自動調整介面\n",
        "  plt.show()#顯示\n",
        "def merge_data(a, b):#合併a,b陣列\n",
        "    merged_data = pd.merge(a, b, on=['timestamp'])\n",
        "    #merged_data = merged_data[merged_data['timestamp'] >= from_date]\n",
        "    return merged_data\n",
        "def create_model_data(data):#製造資料庫\n",
        "  \"\"\"\n",
        "  data: pandas DataFrame\n",
        "  This function drops unnecessary columns and reverses the order of DataFrame based on decending dates.\n",
        "  Return: pandas DataFrame\n",
        "  \"\"\"\n",
        "  #$data = data[['timestamp']+[coin+metric for coin in ['btc_', 'eth_'] for metric in ['Close','Volume','close_off_high','volatility']]]\n",
        "  data = data[['timestamp']+[coin+metric for coin in ['BTC_', 'ETH_'] for metric in ['close','volumeto']]]#只取closse、timestamp和volumeto這三行資料\n",
        "  data = data.sort_values(by='timestamp')#以日期為排列順序，由早到晚\n",
        "  return data\n",
        "\n",
        "def split_data(data, training_size=0.8):#分割資料集為前0.8:0.2\n",
        "  \"\"\"\n",
        "  data: Pandas Dataframe\n",
        "  training_size: proportion of the data to be used for training\n",
        "  This function splits the data into training_set and test_set based on the given training_size\n",
        "  Return: train_set and test_set as pandas DataFrame\n",
        "  \"\"\"\n",
        "  return data[:int(training_size*len(data))], data[int(training_size*len(data)):]\n",
        "def create_inputs(data, coins=['BTC', 'ETH'], window_len=window_len):#製造input資料型態，將close以及volumeto正規化介於0~1\n",
        "  \"\"\"\n",
        "  data: pandas DataFrame, this could be either training_set or test_set\n",
        "  coins: coin datas which will be used as the input. Default is 'btc', 'eth'\n",
        "  window_len: is an intiger to be used as the look back window for creating a single input sample.\n",
        "  This function will create input array X from the given dataset and will normalize 'Close' and 'Volume' between 0 and 1\n",
        "  Return: X, the input for our model as a python list which later needs to be converted to numpy array.\n",
        "  \"\"\"\n",
        "  norm_cols = [coin + metric for coin in coins for metric in ['_close', '_volumeto']]#取輸入陣列中的close、volumeto 列\n",
        "  inputs = []#初始化input陣列\n",
        "  for i in range(len(data) - window_len+1):#從0到data的倒數第八個，跑n-7次\n",
        "    temp_set = data[i:(i + window_len)].copy()#淺複製(shallow copy)資料到temp_set，一次會複製七個數\n",
        "    inputs.append(temp_set)\n",
        "    for col in norm_cols:\n",
        "      inputs[i].loc[:, col] = inputs[i].loc[:, col] / inputs[i].loc[:, col].iloc[0] - 1\n",
        "  return inputs\n",
        "def to_array(data):#將輸入轉換為numpy陣列\n",
        "  \"\"\"\n",
        "  data: DataFrame\n",
        "  This function will convert list of inputs to a numpy array\n",
        "  Return: numpy array\n",
        "  \"\"\"\n",
        "  x = [np.array(data[i]) for i in range (len(data))]\n",
        "  return np.array(x)\n",
        "def add_volatility(data, coins=['BTC', 'ETH']):#增加一行新的資料:波動性\n",
        "  \"\"\"\n",
        "  data: input data, pandas DataFrame\n",
        "  coins: default is for 'btc and 'eth'. It could be changed as needed\n",
        "  This function calculates the volatility and close_off_high of each given coin in 24 hours,\n",
        "  and adds the result as new columns to the DataFrame.\n",
        "  Return: DataFrame with added columns\n",
        "  \"\"\"\n",
        "  for coin in coins:\n",
        "    # calculate the daily change\n",
        "    kwargs = {coin + '_change': lambda x: (x[coin + '_close'] - x[coin + '_open']) / x[coin + '_open'],#今天漲跌幅度\n",
        "             coin + '_close_high': lambda x: 2*(x[coin + '_high'] - x[coin + '_close']) / (x[coin + '_high'] - x[coin + '_low']) - 1,#比較收盤價較靠近最低價還是最高價，負數代表較靠近最高價，正數則代表較靠近最低價\n",
        "             coin + '_volatility': lambda x: (x[coin + '_high'] - x[coin + '_low']) / (x[coin + '_open'])}#顯示出今天市場波動大小\n",
        "    data = data.assign(**kwargs)#新增新的行\n",
        "  return data"
      ]
    },
    {
      "cell_type": "code",
      "execution_count": null,
      "id": "2d61bc00",
      "metadata": {
        "id": "2d61bc00",
        "outputId": "55cecc70-9744-4b37-e9ef-79390232c594"
      },
      "outputs": [
        {
          "name": "stdout",
          "output_type": "stream",
          "text": [
            "https://min-api.cryptocompare.com/data/histoday?fsym=BTC&tsym=USD&limit=6&aggregate=1\n",
            "https://min-api.cryptocompare.com/data/histoday?fsym=BTC&tsym=USD&limit=6&aggregate=1\n",
            "https://min-api.cryptocompare.com/data/histoday?fsym=ETH&tsym=USD&limit=6&aggregate=1\n",
            "https://min-api.cryptocompare.com/data/histoday?fsym=ETH&tsym=USD&limit=6&aggregate=1\n"
          ]
        }
      ],
      "source": [
        "btc_data = get_market_data(\"BTC\", \"USD\", 6, 1, \"BTC\")\n",
        "eth_data = get_market_data(\"ETH\", \"USD\", 6, 1, \"ETH\")"
      ]
    },
    {
      "cell_type": "code",
      "execution_count": null,
      "id": "96235495",
      "metadata": {
        "id": "96235495",
        "outputId": "c682c10d-c4fa-4613-cb4b-02cba09678bf"
      },
      "outputs": [
        {
          "data": {
            "text/html": [
              "<div>\n",
              "<style scoped>\n",
              "    .dataframe tbody tr th:only-of-type {\n",
              "        vertical-align: middle;\n",
              "    }\n",
              "\n",
              "    .dataframe tbody tr th {\n",
              "        vertical-align: top;\n",
              "    }\n",
              "\n",
              "    .dataframe thead th {\n",
              "        text-align: right;\n",
              "    }\n",
              "</style>\n",
              "<table border=\"1\" class=\"dataframe\">\n",
              "  <thead>\n",
              "    <tr style=\"text-align: right;\">\n",
              "      <th></th>\n",
              "      <th>time</th>\n",
              "      <th>BTC_high</th>\n",
              "      <th>BTC_low</th>\n",
              "      <th>BTC_open</th>\n",
              "      <th>BTC_volumefrom</th>\n",
              "      <th>BTC_volumeto</th>\n",
              "      <th>BTC_close</th>\n",
              "      <th>conversionType</th>\n",
              "      <th>conversionSymbol</th>\n",
              "      <th>timestamp</th>\n",
              "    </tr>\n",
              "  </thead>\n",
              "  <tbody>\n",
              "    <tr>\n",
              "      <th>0</th>\n",
              "      <td>1625443200</td>\n",
              "      <td>35290.80</td>\n",
              "      <td>33151.51</td>\n",
              "      <td>35287.97</td>\n",
              "      <td>31526.39</td>\n",
              "      <td>1.072690e+09</td>\n",
              "      <td>33702.79</td>\n",
              "      <td>direct</td>\n",
              "      <td></td>\n",
              "      <td>2021-07-05 08:00:00</td>\n",
              "    </tr>\n",
              "    <tr>\n",
              "      <th>1</th>\n",
              "      <td>1625529600</td>\n",
              "      <td>35096.65</td>\n",
              "      <td>33558.75</td>\n",
              "      <td>33702.79</td>\n",
              "      <td>32844.80</td>\n",
              "      <td>1.123145e+09</td>\n",
              "      <td>34237.66</td>\n",
              "      <td>direct</td>\n",
              "      <td></td>\n",
              "      <td>2021-07-06 08:00:00</td>\n",
              "    </tr>\n",
              "    <tr>\n",
              "      <th>2</th>\n",
              "      <td>1625616000</td>\n",
              "      <td>35066.82</td>\n",
              "      <td>33807.42</td>\n",
              "      <td>34237.66</td>\n",
              "      <td>21784.20</td>\n",
              "      <td>7.520745e+08</td>\n",
              "      <td>33880.79</td>\n",
              "      <td>direct</td>\n",
              "      <td></td>\n",
              "      <td>2021-07-07 08:00:00</td>\n",
              "    </tr>\n",
              "    <tr>\n",
              "      <th>3</th>\n",
              "      <td>1625702400</td>\n",
              "      <td>33934.31</td>\n",
              "      <td>32108.68</td>\n",
              "      <td>33880.79</td>\n",
              "      <td>47884.76</td>\n",
              "      <td>1.573968e+09</td>\n",
              "      <td>32874.01</td>\n",
              "      <td>direct</td>\n",
              "      <td></td>\n",
              "      <td>2021-07-08 08:00:00</td>\n",
              "    </tr>\n",
              "    <tr>\n",
              "      <th>4</th>\n",
              "      <td>1625788800</td>\n",
              "      <td>34076.49</td>\n",
              "      <td>32274.31</td>\n",
              "      <td>32874.01</td>\n",
              "      <td>25677.95</td>\n",
              "      <td>8.531654e+08</td>\n",
              "      <td>33804.20</td>\n",
              "      <td>direct</td>\n",
              "      <td></td>\n",
              "      <td>2021-07-09 08:00:00</td>\n",
              "    </tr>\n",
              "    <tr>\n",
              "      <th>5</th>\n",
              "      <td>1625875200</td>\n",
              "      <td>34253.50</td>\n",
              "      <td>33030.16</td>\n",
              "      <td>33804.20</td>\n",
              "      <td>19345.51</td>\n",
              "      <td>6.518995e+08</td>\n",
              "      <td>33515.13</td>\n",
              "      <td>direct</td>\n",
              "      <td></td>\n",
              "      <td>2021-07-10 08:00:00</td>\n",
              "    </tr>\n",
              "    <tr>\n",
              "      <th>6</th>\n",
              "      <td>1625961600</td>\n",
              "      <td>33868.25</td>\n",
              "      <td>33335.40</td>\n",
              "      <td>33515.13</td>\n",
              "      <td>6897.41</td>\n",
              "      <td>2.320161e+08</td>\n",
              "      <td>33801.67</td>\n",
              "      <td>direct</td>\n",
              "      <td></td>\n",
              "      <td>2021-07-11 08:00:00</td>\n",
              "    </tr>\n",
              "  </tbody>\n",
              "</table>\n",
              "</div>"
            ],
            "text/plain": [
              "         time  BTC_high   BTC_low  BTC_open  BTC_volumefrom  BTC_volumeto  \\\n",
              "0  1625443200  35290.80  33151.51  35287.97        31526.39  1.072690e+09   \n",
              "1  1625529600  35096.65  33558.75  33702.79        32844.80  1.123145e+09   \n",
              "2  1625616000  35066.82  33807.42  34237.66        21784.20  7.520745e+08   \n",
              "3  1625702400  33934.31  32108.68  33880.79        47884.76  1.573968e+09   \n",
              "4  1625788800  34076.49  32274.31  32874.01        25677.95  8.531654e+08   \n",
              "5  1625875200  34253.50  33030.16  33804.20        19345.51  6.518995e+08   \n",
              "6  1625961600  33868.25  33335.40  33515.13         6897.41  2.320161e+08   \n",
              "\n",
              "   BTC_close conversionType conversionSymbol           timestamp  \n",
              "0   33702.79         direct                  2021-07-05 08:00:00  \n",
              "1   34237.66         direct                  2021-07-06 08:00:00  \n",
              "2   33880.79         direct                  2021-07-07 08:00:00  \n",
              "3   32874.01         direct                  2021-07-08 08:00:00  \n",
              "4   33804.20         direct                  2021-07-09 08:00:00  \n",
              "5   33515.13         direct                  2021-07-10 08:00:00  \n",
              "6   33801.67         direct                  2021-07-11 08:00:00  "
            ]
          },
          "execution_count": 5,
          "metadata": {},
          "output_type": "execute_result"
        }
      ],
      "source": [
        "btc_data.head(7)"
      ]
    },
    {
      "cell_type": "code",
      "execution_count": null,
      "id": "041362a7",
      "metadata": {
        "id": "041362a7",
        "outputId": "0e959977-7c22-466b-e347-b66e4072d2da"
      },
      "outputs": [
        {
          "data": {
            "text/html": [
              "<div>\n",
              "<style scoped>\n",
              "    .dataframe tbody tr th:only-of-type {\n",
              "        vertical-align: middle;\n",
              "    }\n",
              "\n",
              "    .dataframe tbody tr th {\n",
              "        vertical-align: top;\n",
              "    }\n",
              "\n",
              "    .dataframe thead th {\n",
              "        text-align: right;\n",
              "    }\n",
              "</style>\n",
              "<table border=\"1\" class=\"dataframe\">\n",
              "  <thead>\n",
              "    <tr style=\"text-align: right;\">\n",
              "      <th></th>\n",
              "      <th>time</th>\n",
              "      <th>ETH_high</th>\n",
              "      <th>ETH_low</th>\n",
              "      <th>ETH_open</th>\n",
              "      <th>ETH_volumefrom</th>\n",
              "      <th>ETH_volumeto</th>\n",
              "      <th>ETH_close</th>\n",
              "      <th>conversionType</th>\n",
              "      <th>conversionSymbol</th>\n",
              "      <th>timestamp</th>\n",
              "    </tr>\n",
              "  </thead>\n",
              "  <tbody>\n",
              "    <tr>\n",
              "      <th>0</th>\n",
              "      <td>1625443200</td>\n",
              "      <td>2323.53</td>\n",
              "      <td>2159.57</td>\n",
              "      <td>2323.27</td>\n",
              "      <td>364621.13</td>\n",
              "      <td>8.170322e+08</td>\n",
              "      <td>2196.71</td>\n",
              "      <td>direct</td>\n",
              "      <td></td>\n",
              "      <td>2021-07-05 08:00:00</td>\n",
              "    </tr>\n",
              "    <tr>\n",
              "      <th>1</th>\n",
              "      <td>1625529600</td>\n",
              "      <td>2349.66</td>\n",
              "      <td>2194.97</td>\n",
              "      <td>2196.71</td>\n",
              "      <td>371318.48</td>\n",
              "      <td>8.526733e+08</td>\n",
              "      <td>2322.63</td>\n",
              "      <td>direct</td>\n",
              "      <td></td>\n",
              "      <td>2021-07-06 08:00:00</td>\n",
              "    </tr>\n",
              "    <tr>\n",
              "      <th>2</th>\n",
              "      <td>1625616000</td>\n",
              "      <td>2408.53</td>\n",
              "      <td>2294.71</td>\n",
              "      <td>2322.63</td>\n",
              "      <td>327127.26</td>\n",
              "      <td>7.711741e+08</td>\n",
              "      <td>2317.12</td>\n",
              "      <td>direct</td>\n",
              "      <td></td>\n",
              "      <td>2021-07-07 08:00:00</td>\n",
              "    </tr>\n",
              "    <tr>\n",
              "      <th>3</th>\n",
              "      <td>1625702400</td>\n",
              "      <td>2324.72</td>\n",
              "      <td>2084.63</td>\n",
              "      <td>2317.12</td>\n",
              "      <td>766987.58</td>\n",
              "      <td>1.669544e+09</td>\n",
              "      <td>2114.51</td>\n",
              "      <td>direct</td>\n",
              "      <td></td>\n",
              "      <td>2021-07-08 08:00:00</td>\n",
              "    </tr>\n",
              "    <tr>\n",
              "      <th>4</th>\n",
              "      <td>1625788800</td>\n",
              "      <td>2186.26</td>\n",
              "      <td>2048.12</td>\n",
              "      <td>2114.51</td>\n",
              "      <td>594562.44</td>\n",
              "      <td>1.261710e+09</td>\n",
              "      <td>2145.67</td>\n",
              "      <td>direct</td>\n",
              "      <td></td>\n",
              "      <td>2021-07-09 08:00:00</td>\n",
              "    </tr>\n",
              "    <tr>\n",
              "      <th>5</th>\n",
              "      <td>1625875200</td>\n",
              "      <td>2190.77</td>\n",
              "      <td>2075.55</td>\n",
              "      <td>2145.67</td>\n",
              "      <td>254162.69</td>\n",
              "      <td>5.392041e+08</td>\n",
              "      <td>2110.47</td>\n",
              "      <td>direct</td>\n",
              "      <td></td>\n",
              "      <td>2021-07-10 08:00:00</td>\n",
              "    </tr>\n",
              "    <tr>\n",
              "      <th>6</th>\n",
              "      <td>1625961600</td>\n",
              "      <td>2137.72</td>\n",
              "      <td>2081.93</td>\n",
              "      <td>2110.47</td>\n",
              "      <td>81860.49</td>\n",
              "      <td>1.725594e+08</td>\n",
              "      <td>2126.89</td>\n",
              "      <td>direct</td>\n",
              "      <td></td>\n",
              "      <td>2021-07-11 08:00:00</td>\n",
              "    </tr>\n",
              "  </tbody>\n",
              "</table>\n",
              "</div>"
            ],
            "text/plain": [
              "         time  ETH_high  ETH_low  ETH_open  ETH_volumefrom  ETH_volumeto  \\\n",
              "0  1625443200   2323.53  2159.57   2323.27       364621.13  8.170322e+08   \n",
              "1  1625529600   2349.66  2194.97   2196.71       371318.48  8.526733e+08   \n",
              "2  1625616000   2408.53  2294.71   2322.63       327127.26  7.711741e+08   \n",
              "3  1625702400   2324.72  2084.63   2317.12       766987.58  1.669544e+09   \n",
              "4  1625788800   2186.26  2048.12   2114.51       594562.44  1.261710e+09   \n",
              "5  1625875200   2190.77  2075.55   2145.67       254162.69  5.392041e+08   \n",
              "6  1625961600   2137.72  2081.93   2110.47        81860.49  1.725594e+08   \n",
              "\n",
              "   ETH_close conversionType conversionSymbol           timestamp  \n",
              "0    2196.71         direct                  2021-07-05 08:00:00  \n",
              "1    2322.63         direct                  2021-07-06 08:00:00  \n",
              "2    2317.12         direct                  2021-07-07 08:00:00  \n",
              "3    2114.51         direct                  2021-07-08 08:00:00  \n",
              "4    2145.67         direct                  2021-07-09 08:00:00  \n",
              "5    2110.47         direct                  2021-07-10 08:00:00  \n",
              "6    2126.89         direct                  2021-07-11 08:00:00  "
            ]
          },
          "execution_count": 6,
          "metadata": {},
          "output_type": "execute_result"
        }
      ],
      "source": [
        "eth_data.head(8)"
      ]
    },
    {
      "cell_type": "code",
      "execution_count": null,
      "id": "b141cf2e",
      "metadata": {
        "id": "b141cf2e",
        "outputId": "3788f648-089a-4e28-c0b9-17985f78be96"
      },
      "outputs": [
        {
          "data": {
            "image/png": "[encoded data removed]",
            "text/plain": [
              "<Figure size 432x288 with 2 Axes>"
            ]
          },
          "metadata": {
            "needs_background": "light"
          },
          "output_type": "display_data"
        },
        {
          "data": {
            "image/png": "[encoded data removed]",
            "text/plain": [
              "<Figure size 432x288 with 2 Axes>"
            ]
          },
          "metadata": {
            "needs_background": "light"
          },
          "output_type": "display_data"
        }
      ],
      "source": [
        "show_plot(btc_data,\"BTC\")\n",
        "show_plot(eth_data,\"ETH\")"
      ]
    },
    {
      "cell_type": "code",
      "execution_count": null,
      "id": "8d049a5a",
      "metadata": {
        "id": "8d049a5a"
      },
      "outputs": [],
      "source": [
        "market_data = merge_data(btc_data, eth_data)\n",
        "input_data = create_model_data(market_data)"
      ]
    },
    {
      "cell_type": "code",
      "execution_count": null,
      "id": "09c547a6",
      "metadata": {
        "id": "09c547a6",
        "outputId": "21545729-b946-4e66-8eab-95cc537193a5"
      },
      "outputs": [
        {
          "data": {
            "text/html": [
              "<div>\n",
              "<style scoped>\n",
              "    .dataframe tbody tr th:only-of-type {\n",
              "        vertical-align: middle;\n",
              "    }\n",
              "\n",
              "    .dataframe tbody tr th {\n",
              "        vertical-align: top;\n",
              "    }\n",
              "\n",
              "    .dataframe thead th {\n",
              "        text-align: right;\n",
              "    }\n",
              "</style>\n",
              "<table border=\"1\" class=\"dataframe\">\n",
              "  <thead>\n",
              "    <tr style=\"text-align: right;\">\n",
              "      <th></th>\n",
              "      <th>time_x</th>\n",
              "      <th>BTC_high</th>\n",
              "      <th>BTC_low</th>\n",
              "      <th>BTC_open</th>\n",
              "      <th>BTC_volumefrom</th>\n",
              "      <th>BTC_volumeto</th>\n",
              "      <th>BTC_close</th>\n",
              "      <th>conversionType_x</th>\n",
              "      <th>conversionSymbol_x</th>\n",
              "      <th>timestamp</th>\n",
              "      <th>time_y</th>\n",
              "      <th>ETH_high</th>\n",
              "      <th>ETH_low</th>\n",
              "      <th>ETH_open</th>\n",
              "      <th>ETH_volumefrom</th>\n",
              "      <th>ETH_volumeto</th>\n",
              "      <th>ETH_close</th>\n",
              "      <th>conversionType_y</th>\n",
              "      <th>conversionSymbol_y</th>\n",
              "    </tr>\n",
              "  </thead>\n",
              "  <tbody>\n",
              "    <tr>\n",
              "      <th>0</th>\n",
              "      <td>1625443200</td>\n",
              "      <td>35290.80</td>\n",
              "      <td>33151.51</td>\n",
              "      <td>35287.97</td>\n",
              "      <td>31526.39</td>\n",
              "      <td>1.072690e+09</td>\n",
              "      <td>33702.79</td>\n",
              "      <td>direct</td>\n",
              "      <td></td>\n",
              "      <td>2021-07-05 08:00:00</td>\n",
              "      <td>1625443200</td>\n",
              "      <td>2323.53</td>\n",
              "      <td>2159.57</td>\n",
              "      <td>2323.27</td>\n",
              "      <td>364621.13</td>\n",
              "      <td>8.170322e+08</td>\n",
              "      <td>2196.71</td>\n",
              "      <td>direct</td>\n",
              "      <td></td>\n",
              "    </tr>\n",
              "    <tr>\n",
              "      <th>1</th>\n",
              "      <td>1625529600</td>\n",
              "      <td>35096.65</td>\n",
              "      <td>33558.75</td>\n",
              "      <td>33702.79</td>\n",
              "      <td>32844.80</td>\n",
              "      <td>1.123145e+09</td>\n",
              "      <td>34237.66</td>\n",
              "      <td>direct</td>\n",
              "      <td></td>\n",
              "      <td>2021-07-06 08:00:00</td>\n",
              "      <td>1625529600</td>\n",
              "      <td>2349.66</td>\n",
              "      <td>2194.97</td>\n",
              "      <td>2196.71</td>\n",
              "      <td>371318.48</td>\n",
              "      <td>8.526733e+08</td>\n",
              "      <td>2322.63</td>\n",
              "      <td>direct</td>\n",
              "      <td></td>\n",
              "    </tr>\n",
              "    <tr>\n",
              "      <th>2</th>\n",
              "      <td>1625616000</td>\n",
              "      <td>35066.82</td>\n",
              "      <td>33807.42</td>\n",
              "      <td>34237.66</td>\n",
              "      <td>21784.20</td>\n",
              "      <td>7.520745e+08</td>\n",
              "      <td>33880.79</td>\n",
              "      <td>direct</td>\n",
              "      <td></td>\n",
              "      <td>2021-07-07 08:00:00</td>\n",
              "      <td>1625616000</td>\n",
              "      <td>2408.53</td>\n",
              "      <td>2294.71</td>\n",
              "      <td>2322.63</td>\n",
              "      <td>327127.26</td>\n",
              "      <td>7.711741e+08</td>\n",
              "      <td>2317.12</td>\n",
              "      <td>direct</td>\n",
              "      <td></td>\n",
              "    </tr>\n",
              "    <tr>\n",
              "      <th>3</th>\n",
              "      <td>1625702400</td>\n",
              "      <td>33934.31</td>\n",
              "      <td>32108.68</td>\n",
              "      <td>33880.79</td>\n",
              "      <td>47884.76</td>\n",
              "      <td>1.573968e+09</td>\n",
              "      <td>32874.01</td>\n",
              "      <td>direct</td>\n",
              "      <td></td>\n",
              "      <td>2021-07-08 08:00:00</td>\n",
              "      <td>1625702400</td>\n",
              "      <td>2324.72</td>\n",
              "      <td>2084.63</td>\n",
              "      <td>2317.12</td>\n",
              "      <td>766987.58</td>\n",
              "      <td>1.669544e+09</td>\n",
              "      <td>2114.51</td>\n",
              "      <td>direct</td>\n",
              "      <td></td>\n",
              "    </tr>\n",
              "    <tr>\n",
              "      <th>4</th>\n",
              "      <td>1625788800</td>\n",
              "      <td>34076.49</td>\n",
              "      <td>32274.31</td>\n",
              "      <td>32874.01</td>\n",
              "      <td>25677.95</td>\n",
              "      <td>8.531654e+08</td>\n",
              "      <td>33804.20</td>\n",
              "      <td>direct</td>\n",
              "      <td></td>\n",
              "      <td>2021-07-09 08:00:00</td>\n",
              "      <td>1625788800</td>\n",
              "      <td>2186.26</td>\n",
              "      <td>2048.12</td>\n",
              "      <td>2114.51</td>\n",
              "      <td>594562.44</td>\n",
              "      <td>1.261710e+09</td>\n",
              "      <td>2145.67</td>\n",
              "      <td>direct</td>\n",
              "      <td></td>\n",
              "    </tr>\n",
              "    <tr>\n",
              "      <th>5</th>\n",
              "      <td>1625875200</td>\n",
              "      <td>34253.50</td>\n",
              "      <td>33030.16</td>\n",
              "      <td>33804.20</td>\n",
              "      <td>19345.51</td>\n",
              "      <td>6.518995e+08</td>\n",
              "      <td>33515.13</td>\n",
              "      <td>direct</td>\n",
              "      <td></td>\n",
              "      <td>2021-07-10 08:00:00</td>\n",
              "      <td>1625875200</td>\n",
              "      <td>2190.77</td>\n",
              "      <td>2075.55</td>\n",
              "      <td>2145.67</td>\n",
              "      <td>254162.69</td>\n",
              "      <td>5.392041e+08</td>\n",
              "      <td>2110.47</td>\n",
              "      <td>direct</td>\n",
              "      <td></td>\n",
              "    </tr>\n",
              "    <tr>\n",
              "      <th>6</th>\n",
              "      <td>1625961600</td>\n",
              "      <td>33868.25</td>\n",
              "      <td>33335.40</td>\n",
              "      <td>33515.13</td>\n",
              "      <td>6897.41</td>\n",
              "      <td>2.320161e+08</td>\n",
              "      <td>33801.67</td>\n",
              "      <td>direct</td>\n",
              "      <td></td>\n",
              "      <td>2021-07-11 08:00:00</td>\n",
              "      <td>1625961600</td>\n",
              "      <td>2137.72</td>\n",
              "      <td>2081.93</td>\n",
              "      <td>2110.47</td>\n",
              "      <td>81860.49</td>\n",
              "      <td>1.725594e+08</td>\n",
              "      <td>2126.89</td>\n",
              "      <td>direct</td>\n",
              "      <td></td>\n",
              "    </tr>\n",
              "  </tbody>\n",
              "</table>\n",
              "</div>"
            ],
            "text/plain": [
              "       time_x  BTC_high   BTC_low  BTC_open  BTC_volumefrom  BTC_volumeto  \\\n",
              "0  1625443200  35290.80  33151.51  35287.97        31526.39  1.072690e+09   \n",
              "1  1625529600  35096.65  33558.75  33702.79        32844.80  1.123145e+09   \n",
              "2  1625616000  35066.82  33807.42  34237.66        21784.20  7.520745e+08   \n",
              "3  1625702400  33934.31  32108.68  33880.79        47884.76  1.573968e+09   \n",
              "4  1625788800  34076.49  32274.31  32874.01        25677.95  8.531654e+08   \n",
              "5  1625875200  34253.50  33030.16  33804.20        19345.51  6.518995e+08   \n",
              "6  1625961600  33868.25  33335.40  33515.13         6897.41  2.320161e+08   \n",
              "\n",
              "   BTC_close conversionType_x conversionSymbol_x           timestamp  \\\n",
              "0   33702.79           direct                    2021-07-05 08:00:00   \n",
              "1   34237.66           direct                    2021-07-06 08:00:00   \n",
              "2   33880.79           direct                    2021-07-07 08:00:00   \n",
              "3   32874.01           direct                    2021-07-08 08:00:00   \n",
              "4   33804.20           direct                    2021-07-09 08:00:00   \n",
              "5   33515.13           direct                    2021-07-10 08:00:00   \n",
              "6   33801.67           direct                    2021-07-11 08:00:00   \n",
              "\n",
              "       time_y  ETH_high  ETH_low  ETH_open  ETH_volumefrom  ETH_volumeto  \\\n",
              "0  1625443200   2323.53  2159.57   2323.27       364621.13  8.170322e+08   \n",
              "1  1625529600   2349.66  2194.97   2196.71       371318.48  8.526733e+08   \n",
              "2  1625616000   2408.53  2294.71   2322.63       327127.26  7.711741e+08   \n",
              "3  1625702400   2324.72  2084.63   2317.12       766987.58  1.669544e+09   \n",
              "4  1625788800   2186.26  2048.12   2114.51       594562.44  1.261710e+09   \n",
              "5  1625875200   2190.77  2075.55   2145.67       254162.69  5.392041e+08   \n",
              "6  1625961600   2137.72  2081.93   2110.47        81860.49  1.725594e+08   \n",
              "\n",
              "   ETH_close conversionType_y conversionSymbol_y  \n",
              "0    2196.71           direct                     \n",
              "1    2322.63           direct                     \n",
              "2    2317.12           direct                     \n",
              "3    2114.51           direct                     \n",
              "4    2145.67           direct                     \n",
              "5    2110.47           direct                     \n",
              "6    2126.89           direct                     "
            ]
          },
          "execution_count": 9,
          "metadata": {},
          "output_type": "execute_result"
        }
      ],
      "source": [
        "market_data"
      ]
    },
    {
      "cell_type": "code",
      "execution_count": null,
      "id": "c410b9d1",
      "metadata": {
        "id": "c410b9d1",
        "outputId": "bf3a09ba-f019-4d8d-f37b-05ac2872fa66"
      },
      "outputs": [
        {
          "data": {
            "text/html": [
              "<div>\n",
              "<style scoped>\n",
              "    .dataframe tbody tr th:only-of-type {\n",
              "        vertical-align: middle;\n",
              "    }\n",
              "\n",
              "    .dataframe tbody tr th {\n",
              "        vertical-align: top;\n",
              "    }\n",
              "\n",
              "    .dataframe thead th {\n",
              "        text-align: right;\n",
              "    }\n",
              "</style>\n",
              "<table border=\"1\" class=\"dataframe\">\n",
              "  <thead>\n",
              "    <tr style=\"text-align: right;\">\n",
              "      <th></th>\n",
              "      <th>timestamp</th>\n",
              "      <th>BTC_close</th>\n",
              "      <th>BTC_volumeto</th>\n",
              "      <th>ETH_close</th>\n",
              "      <th>ETH_volumeto</th>\n",
              "    </tr>\n",
              "  </thead>\n",
              "  <tbody>\n",
              "    <tr>\n",
              "      <th>0</th>\n",
              "      <td>2021-07-05 08:00:00</td>\n",
              "      <td>33702.79</td>\n",
              "      <td>1.072690e+09</td>\n",
              "      <td>2196.71</td>\n",
              "      <td>8.170322e+08</td>\n",
              "    </tr>\n",
              "    <tr>\n",
              "      <th>1</th>\n",
              "      <td>2021-07-06 08:00:00</td>\n",
              "      <td>34237.66</td>\n",
              "      <td>1.123145e+09</td>\n",
              "      <td>2322.63</td>\n",
              "      <td>8.526733e+08</td>\n",
              "    </tr>\n",
              "    <tr>\n",
              "      <th>2</th>\n",
              "      <td>2021-07-07 08:00:00</td>\n",
              "      <td>33880.79</td>\n",
              "      <td>7.520745e+08</td>\n",
              "      <td>2317.12</td>\n",
              "      <td>7.711741e+08</td>\n",
              "    </tr>\n",
              "    <tr>\n",
              "      <th>3</th>\n",
              "      <td>2021-07-08 08:00:00</td>\n",
              "      <td>32874.01</td>\n",
              "      <td>1.573968e+09</td>\n",
              "      <td>2114.51</td>\n",
              "      <td>1.669544e+09</td>\n",
              "    </tr>\n",
              "    <tr>\n",
              "      <th>4</th>\n",
              "      <td>2021-07-09 08:00:00</td>\n",
              "      <td>33804.20</td>\n",
              "      <td>8.531654e+08</td>\n",
              "      <td>2145.67</td>\n",
              "      <td>1.261710e+09</td>\n",
              "    </tr>\n",
              "    <tr>\n",
              "      <th>5</th>\n",
              "      <td>2021-07-10 08:00:00</td>\n",
              "      <td>33515.13</td>\n",
              "      <td>6.518995e+08</td>\n",
              "      <td>2110.47</td>\n",
              "      <td>5.392041e+08</td>\n",
              "    </tr>\n",
              "    <tr>\n",
              "      <th>6</th>\n",
              "      <td>2021-07-11 08:00:00</td>\n",
              "      <td>33801.67</td>\n",
              "      <td>2.320161e+08</td>\n",
              "      <td>2126.89</td>\n",
              "      <td>1.725594e+08</td>\n",
              "    </tr>\n",
              "  </tbody>\n",
              "</table>\n",
              "</div>"
            ],
            "text/plain": [
              "            timestamp  BTC_close  BTC_volumeto  ETH_close  ETH_volumeto\n",
              "0 2021-07-05 08:00:00   33702.79  1.072690e+09    2196.71  8.170322e+08\n",
              "1 2021-07-06 08:00:00   34237.66  1.123145e+09    2322.63  8.526733e+08\n",
              "2 2021-07-07 08:00:00   33880.79  7.520745e+08    2317.12  7.711741e+08\n",
              "3 2021-07-08 08:00:00   32874.01  1.573968e+09    2114.51  1.669544e+09\n",
              "4 2021-07-09 08:00:00   33804.20  8.531654e+08    2145.67  1.261710e+09\n",
              "5 2021-07-10 08:00:00   33515.13  6.518995e+08    2110.47  5.392041e+08\n",
              "6 2021-07-11 08:00:00   33801.67  2.320161e+08    2126.89  1.725594e+08"
            ]
          },
          "execution_count": 10,
          "metadata": {},
          "output_type": "execute_result"
        }
      ],
      "source": [
        "input_data"
      ]
    },
    {
      "cell_type": "code",
      "execution_count": null,
      "id": "28a454fc",
      "metadata": {
        "id": "28a454fc"
      },
      "outputs": [],
      "source": [
        "market_volatility = add_volatility(market_data)"
      ]
    },
    {
      "cell_type": "code",
      "execution_count": null,
      "id": "a47ab69a",
      "metadata": {
        "id": "a47ab69a",
        "outputId": "d74131ac-6414-4a61-95cd-be0861979df5"
      },
      "outputs": [
        {
          "data": {
            "text/html": [
              "<div>\n",
              "<style scoped>\n",
              "    .dataframe tbody tr th:only-of-type {\n",
              "        vertical-align: middle;\n",
              "    }\n",
              "\n",
              "    .dataframe tbody tr th {\n",
              "        vertical-align: top;\n",
              "    }\n",
              "\n",
              "    .dataframe thead th {\n",
              "        text-align: right;\n",
              "    }\n",
              "</style>\n",
              "<table border=\"1\" class=\"dataframe\">\n",
              "  <thead>\n",
              "    <tr style=\"text-align: right;\">\n",
              "      <th></th>\n",
              "      <th>time_x</th>\n",
              "      <th>BTC_high</th>\n",
              "      <th>BTC_low</th>\n",
              "      <th>BTC_open</th>\n",
              "      <th>BTC_volumefrom</th>\n",
              "      <th>BTC_volumeto</th>\n",
              "      <th>BTC_close</th>\n",
              "      <th>conversionType_x</th>\n",
              "      <th>conversionSymbol_x</th>\n",
              "      <th>timestamp</th>\n",
              "      <th>...</th>\n",
              "      <th>ETH_volumeto</th>\n",
              "      <th>ETH_close</th>\n",
              "      <th>conversionType_y</th>\n",
              "      <th>conversionSymbol_y</th>\n",
              "      <th>BTC_change</th>\n",
              "      <th>BTC_close_high</th>\n",
              "      <th>BTC_volatility</th>\n",
              "      <th>ETH_change</th>\n",
              "      <th>ETH_close_high</th>\n",
              "      <th>ETH_volatility</th>\n",
              "    </tr>\n",
              "  </thead>\n",
              "  <tbody>\n",
              "    <tr>\n",
              "      <th>0</th>\n",
              "      <td>1625443200</td>\n",
              "      <td>35290.80</td>\n",
              "      <td>33151.51</td>\n",
              "      <td>35287.97</td>\n",
              "      <td>31526.39</td>\n",
              "      <td>1.072690e+09</td>\n",
              "      <td>33702.79</td>\n",
              "      <td>direct</td>\n",
              "      <td></td>\n",
              "      <td>2021-07-05 08:00:00</td>\n",
              "      <td>...</td>\n",
              "      <td>8.170322e+08</td>\n",
              "      <td>2196.71</td>\n",
              "      <td>direct</td>\n",
              "      <td></td>\n",
              "      <td>-0.044921</td>\n",
              "      <td>0.484614</td>\n",
              "      <td>0.060624</td>\n",
              "      <td>-0.054475</td>\n",
              "      <td>0.546963</td>\n",
              "      <td>0.070573</td>\n",
              "    </tr>\n",
              "    <tr>\n",
              "      <th>1</th>\n",
              "      <td>1625529600</td>\n",
              "      <td>35096.65</td>\n",
              "      <td>33558.75</td>\n",
              "      <td>33702.79</td>\n",
              "      <td>32844.80</td>\n",
              "      <td>1.123145e+09</td>\n",
              "      <td>34237.66</td>\n",
              "      <td>direct</td>\n",
              "      <td></td>\n",
              "      <td>2021-07-06 08:00:00</td>\n",
              "      <td>...</td>\n",
              "      <td>8.526733e+08</td>\n",
              "      <td>2322.63</td>\n",
              "      <td>direct</td>\n",
              "      <td></td>\n",
              "      <td>0.015870</td>\n",
              "      <td>0.117095</td>\n",
              "      <td>0.045631</td>\n",
              "      <td>0.057322</td>\n",
              "      <td>-0.650527</td>\n",
              "      <td>0.070419</td>\n",
              "    </tr>\n",
              "    <tr>\n",
              "      <th>2</th>\n",
              "      <td>1625616000</td>\n",
              "      <td>35066.82</td>\n",
              "      <td>33807.42</td>\n",
              "      <td>34237.66</td>\n",
              "      <td>21784.20</td>\n",
              "      <td>7.520745e+08</td>\n",
              "      <td>33880.79</td>\n",
              "      <td>direct</td>\n",
              "      <td></td>\n",
              "      <td>2021-07-07 08:00:00</td>\n",
              "      <td>...</td>\n",
              "      <td>7.711741e+08</td>\n",
              "      <td>2317.12</td>\n",
              "      <td>direct</td>\n",
              "      <td></td>\n",
              "      <td>-0.010423</td>\n",
              "      <td>0.883484</td>\n",
              "      <td>0.036784</td>\n",
              "      <td>-0.002372</td>\n",
              "      <td>0.606220</td>\n",
              "      <td>0.049005</td>\n",
              "    </tr>\n",
              "    <tr>\n",
              "      <th>3</th>\n",
              "      <td>1625702400</td>\n",
              "      <td>33934.31</td>\n",
              "      <td>32108.68</td>\n",
              "      <td>33880.79</td>\n",
              "      <td>47884.76</td>\n",
              "      <td>1.573968e+09</td>\n",
              "      <td>32874.01</td>\n",
              "      <td>direct</td>\n",
              "      <td></td>\n",
              "      <td>2021-07-08 08:00:00</td>\n",
              "      <td>...</td>\n",
              "      <td>1.669544e+09</td>\n",
              "      <td>2114.51</td>\n",
              "      <td>direct</td>\n",
              "      <td></td>\n",
              "      <td>-0.029715</td>\n",
              "      <td>0.161572</td>\n",
              "      <td>0.053884</td>\n",
              "      <td>-0.087440</td>\n",
              "      <td>0.751093</td>\n",
              "      <td>0.103616</td>\n",
              "    </tr>\n",
              "    <tr>\n",
              "      <th>4</th>\n",
              "      <td>1625788800</td>\n",
              "      <td>34076.49</td>\n",
              "      <td>32274.31</td>\n",
              "      <td>32874.01</td>\n",
              "      <td>25677.95</td>\n",
              "      <td>8.531654e+08</td>\n",
              "      <td>33804.20</td>\n",
              "      <td>direct</td>\n",
              "      <td></td>\n",
              "      <td>2021-07-09 08:00:00</td>\n",
              "      <td>...</td>\n",
              "      <td>1.261710e+09</td>\n",
              "      <td>2145.67</td>\n",
              "      <td>direct</td>\n",
              "      <td></td>\n",
              "      <td>0.028296</td>\n",
              "      <td>-0.697822</td>\n",
              "      <td>0.054821</td>\n",
              "      <td>0.014736</td>\n",
              "      <td>-0.412335</td>\n",
              "      <td>0.065330</td>\n",
              "    </tr>\n",
              "    <tr>\n",
              "      <th>5</th>\n",
              "      <td>1625875200</td>\n",
              "      <td>34253.50</td>\n",
              "      <td>33030.16</td>\n",
              "      <td>33804.20</td>\n",
              "      <td>19345.51</td>\n",
              "      <td>6.518995e+08</td>\n",
              "      <td>33515.13</td>\n",
              "      <td>direct</td>\n",
              "      <td></td>\n",
              "      <td>2021-07-10 08:00:00</td>\n",
              "      <td>...</td>\n",
              "      <td>5.392041e+08</td>\n",
              "      <td>2110.47</td>\n",
              "      <td>direct</td>\n",
              "      <td></td>\n",
              "      <td>-0.008551</td>\n",
              "      <td>0.207138</td>\n",
              "      <td>0.036189</td>\n",
              "      <td>-0.016405</td>\n",
              "      <td>0.393855</td>\n",
              "      <td>0.053699</td>\n",
              "    </tr>\n",
              "    <tr>\n",
              "      <th>6</th>\n",
              "      <td>1625961600</td>\n",
              "      <td>33868.25</td>\n",
              "      <td>33335.40</td>\n",
              "      <td>33515.13</td>\n",
              "      <td>6897.41</td>\n",
              "      <td>2.320161e+08</td>\n",
              "      <td>33801.67</td>\n",
              "      <td>direct</td>\n",
              "      <td></td>\n",
              "      <td>2021-07-11 08:00:00</td>\n",
              "      <td>...</td>\n",
              "      <td>1.725594e+08</td>\n",
              "      <td>2126.89</td>\n",
              "      <td>direct</td>\n",
              "      <td></td>\n",
              "      <td>0.008550</td>\n",
              "      <td>-0.750099</td>\n",
              "      <td>0.015899</td>\n",
              "      <td>0.007780</td>\n",
              "      <td>-0.611758</td>\n",
              "      <td>0.026435</td>\n",
              "    </tr>\n",
              "  </tbody>\n",
              "</table>\n",
              "<p>7 rows × 25 columns</p>\n",
              "</div>"
            ],
            "text/plain": [
              "       time_x  BTC_high   BTC_low  BTC_open  BTC_volumefrom  BTC_volumeto  \\\n",
              "0  1625443200  35290.80  33151.51  35287.97        31526.39  1.072690e+09   \n",
              "1  1625529600  35096.65  33558.75  33702.79        32844.80  1.123145e+09   \n",
              "2  1625616000  35066.82  33807.42  34237.66        21784.20  7.520745e+08   \n",
              "3  1625702400  33934.31  32108.68  33880.79        47884.76  1.573968e+09   \n",
              "4  1625788800  34076.49  32274.31  32874.01        25677.95  8.531654e+08   \n",
              "5  1625875200  34253.50  33030.16  33804.20        19345.51  6.518995e+08   \n",
              "6  1625961600  33868.25  33335.40  33515.13         6897.41  2.320161e+08   \n",
              "\n",
              "   BTC_close conversionType_x conversionSymbol_x           timestamp  ...  \\\n",
              "0   33702.79           direct                    2021-07-05 08:00:00  ...   \n",
              "1   34237.66           direct                    2021-07-06 08:00:00  ...   \n",
              "2   33880.79           direct                    2021-07-07 08:00:00  ...   \n",
              "3   32874.01           direct                    2021-07-08 08:00:00  ...   \n",
              "4   33804.20           direct                    2021-07-09 08:00:00  ...   \n",
              "5   33515.13           direct                    2021-07-10 08:00:00  ...   \n",
              "6   33801.67           direct                    2021-07-11 08:00:00  ...   \n",
              "\n",
              "   ETH_volumeto  ETH_close  conversionType_y  conversionSymbol_y  BTC_change  \\\n",
              "0  8.170322e+08    2196.71            direct                       -0.044921   \n",
              "1  8.526733e+08    2322.63            direct                        0.015870   \n",
              "2  7.711741e+08    2317.12            direct                       -0.010423   \n",
              "3  1.669544e+09    2114.51            direct                       -0.029715   \n",
              "4  1.261710e+09    2145.67            direct                        0.028296   \n",
              "5  5.392041e+08    2110.47            direct                       -0.008551   \n",
              "6  1.725594e+08    2126.89            direct                        0.008550   \n",
              "\n",
              "   BTC_close_high  BTC_volatility ETH_change ETH_close_high  ETH_volatility  \n",
              "0        0.484614        0.060624  -0.054475       0.546963        0.070573  \n",
              "1        0.117095        0.045631   0.057322      -0.650527        0.070419  \n",
              "2        0.883484        0.036784  -0.002372       0.606220        0.049005  \n",
              "3        0.161572        0.053884  -0.087440       0.751093        0.103616  \n",
              "4       -0.697822        0.054821   0.014736      -0.412335        0.065330  \n",
              "5        0.207138        0.036189  -0.016405       0.393855        0.053699  \n",
              "6       -0.750099        0.015899   0.007780      -0.611758        0.026435  \n",
              "\n",
              "[7 rows x 25 columns]"
            ]
          },
          "execution_count": 12,
          "metadata": {},
          "output_type": "execute_result"
        }
      ],
      "source": [
        "market_volatility"
      ]
    },
    {
      "cell_type": "code",
      "execution_count": null,
      "id": "5e69486b",
      "metadata": {
        "id": "5e69486b"
      },
      "outputs": [],
      "source": [
        "input_data = input_data.drop('timestamp', 1)\n",
        "crypto_input = create_inputs(input_data)"
      ]
    },
    {
      "cell_type": "code",
      "execution_count": null,
      "id": "ab94f599",
      "metadata": {
        "id": "ab94f599",
        "outputId": "187ca108-fd8e-4682-faf7-41fedc3984b5"
      },
      "outputs": [
        {
          "data": {
            "text/plain": [
              "[   BTC_close  BTC_volumeto  ETH_close  ETH_volumeto\n",
              " 0   0.000000      0.000000   0.000000      0.000000\n",
              " 1   0.015870      0.047036   0.057322      0.043623\n",
              " 2   0.005281     -0.298890   0.054814     -0.056128\n",
              " 3  -0.024591      0.467308  -0.037420      1.043425\n",
              " 4   0.003009     -0.204649  -0.023235      0.544260\n",
              " 5  -0.005568     -0.392276  -0.039259     -0.340045\n",
              " 6   0.002934     -0.783706  -0.031784     -0.788797]"
            ]
          },
          "execution_count": 14,
          "metadata": {},
          "output_type": "execute_result"
        }
      ],
      "source": [
        "crypto_input"
      ]
    },
    {
      "cell_type": "code",
      "execution_count": null,
      "id": "e659c7be",
      "metadata": {
        "id": "e659c7be"
      },
      "outputs": [],
      "source": [
        "crypto_input = to_array(crypto_input)"
      ]
    },
    {
      "cell_type": "code",
      "execution_count": null,
      "id": "c41390ff",
      "metadata": {
        "id": "c41390ff",
        "outputId": "a678d5d9-3774-48b7-affb-ae326bc316b6"
      },
      "outputs": [
        {
          "data": {
            "text/plain": [
              "array([[[ 0.        ,  0.        ,  0.        ,  0.        ],\n",
              "        [ 0.0158702 ,  0.04703586,  0.05732209,  0.04362271],\n",
              "        [ 0.00528146, -0.29888954,  0.05481379, -0.05612757],\n",
              "        [-0.02459084,  0.46730842, -0.0374196 ,  1.04342484],\n",
              "        [ 0.00300895, -0.204649  , -0.02323475,  0.54426045],\n",
              "        [-0.00556809, -0.3922762 , -0.03925871, -0.34004542],\n",
              "        [ 0.00293388, -0.78370635, -0.0317839 , -0.78879725]]])"
            ]
          },
          "execution_count": 16,
          "metadata": {},
          "output_type": "execute_result"
        }
      ],
      "source": [
        "crypto_input#輸入"
      ]
    },
    {
      "cell_type": "code",
      "execution_count": null,
      "id": "ae7fa8f3",
      "metadata": {
        "id": "ae7fa8f3"
      },
      "outputs": [],
      "source": [
        "model_btc = tf.keras.models.load_model('my_model_btc.h5')#載入模組"
      ]
    },
    {
      "cell_type": "code",
      "execution_count": null,
      "id": "0fec9d3c",
      "metadata": {
        "id": "0fec9d3c"
      },
      "outputs": [],
      "source": [
        "model_eth = tf.keras.models.load_model('my_model_eth.h5')#載入模組"
      ]
    },
    {
      "cell_type": "code",
      "execution_count": null,
      "id": "433fdbdf",
      "metadata": {
        "id": "433fdbdf"
      },
      "outputs": [],
      "source": [
        "prediction_normalized_btc = model_btc.predict(crypto_input)#進行預測"
      ]
    },
    {
      "cell_type": "code",
      "execution_count": null,
      "id": "ebe1cc56",
      "metadata": {
        "id": "ebe1cc56"
      },
      "outputs": [],
      "source": [
        "prediction_normalized_eth = model_eth.predict(crypto_input)#進行預測"
      ]
    },
    {
      "cell_type": "code",
      "execution_count": null,
      "id": "053bad6d",
      "metadata": {
        "id": "053bad6d",
        "outputId": "3c41fb92-609f-4146-88c1-36d63dd5c881"
      },
      "outputs": [
        {
          "name": "stdout",
          "output_type": "stream",
          "text": [
            "[0.01763919]\n"
          ]
        }
      ],
      "source": [
        "print(prediction_normalized_btc[0])#印出BTC正規化後的預測結果"
      ]
    },
    {
      "cell_type": "code",
      "execution_count": null,
      "id": "4d6c75cd",
      "metadata": {
        "id": "4d6c75cd",
        "outputId": "6d417590-a809-4750-a0cd-47af7cd96de5"
      },
      "outputs": [
        {
          "name": "stdout",
          "output_type": "stream",
          "text": [
            "[-0.03532657]\n"
          ]
        }
      ],
      "source": [
        "print(prediction_normalized_eth[0])#印出ETH正規化後的預測結果"
      ]
    },
    {
      "cell_type": "code",
      "execution_count": null,
      "id": "426bf1fb",
      "metadata": {
        "id": "426bf1fb",
        "outputId": "a5623a70-d6d9-4d62-cea7-3577af9ca8d5"
      },
      "outputs": [
        {
          "data": {
            "text/plain": [
              "33702.79"
            ]
          },
          "execution_count": 23,
          "metadata": {},
          "output_type": "execute_result"
        }
      ],
      "source": [
        "input_data['BTC_close'].values[0]"
      ]
    },
    {
      "cell_type": "code",
      "execution_count": null,
      "id": "57a83b7e",
      "metadata": {
        "id": "57a83b7e",
        "outputId": "be6ae326-2886-4109-cef4-7d48d1c8a7ac"
      },
      "outputs": [
        {
          "data": {
            "text/plain": [
              "2196.71"
            ]
          },
          "execution_count": 24,
          "metadata": {},
          "output_type": "execute_result"
        }
      ],
      "source": [
        "input_data['ETH_close'].values[0]"
      ]
    },
    {
      "cell_type": "code",
      "execution_count": null,
      "id": "8a1fa810",
      "metadata": {
        "id": "8a1fa810"
      },
      "outputs": [],
      "source": [
        "prediction_btc = (np.transpose(prediction_normalized_btc) + 1) * input_data['BTC_close'].values[0]#轉換回美金"
      ]
    },
    {
      "cell_type": "code",
      "execution_count": null,
      "id": "1ba59076",
      "metadata": {
        "id": "1ba59076"
      },
      "outputs": [],
      "source": [
        "prediction_eth = (np.transpose(prediction_normalized_eth) + 1) * input_data['ETH_close'].values[0]#轉換回美金"
      ]
    },
    {
      "cell_type": "code",
      "execution_count": null,
      "id": "f899291d",
      "metadata": {
        "id": "f899291d",
        "outputId": "61c2c159-4b27-43a6-da61-fbbdbe1db13f"
      },
      "outputs": [
        {
          "name": "stdout",
          "output_type": "stream",
          "text": [
            "[34297.277] USD\n"
          ]
        }
      ],
      "source": [
        "print(prediction_btc[0], \"USD\")#印出預測結果(美金)"
      ]
    },
    {
      "cell_type": "code",
      "execution_count": null,
      "id": "6f8a420a",
      "metadata": {
        "id": "6f8a420a",
        "outputId": "b7c1c27c-9aa0-42a4-b734-5b70aa828388"
      },
      "outputs": [
        {
          "name": "stdout",
          "output_type": "stream",
          "text": [
            "[2119.1077] USD\n"
          ]
        }
      ],
      "source": [
        "print(prediction_eth[0], \"USD\")#印出預測結果(美金)"
      ]
    },
    {
      "cell_type": "code",
      "execution_count": null,
      "id": "6f5b0e51",
      "metadata": {
        "id": "6f5b0e51"
      },
      "outputs": [],
      "source": []
    }
  ],
  "metadata": {
    "kernelspec": {
      "display_name": "Python 3",
      "language": "python",
      "name": "python3"
    },
    "language_info": {
      "codemirror_mode": {
        "name": "ipython",
        "version": 3
      },
      "file_extension": ".py",
      "mimetype": "text/x-python",
      "name": "python",
      "nbconvert_exporter": "python",
      "pygments_lexer": "ipython3",
      "version": "3.8.10"
    },
    "colab": {
      "provenance": []
    }
  },
  "nbformat": 4,
  "nbformat_minor": 5
}